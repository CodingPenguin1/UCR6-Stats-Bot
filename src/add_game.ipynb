{
 "cells": [
  {
   "cell_type": "code",
   "execution_count": 11,
   "metadata": {},
   "outputs": [],
   "source": [
    "import pandas as pd\n",
    "from pathlib import Path"
   ]
  },
  {
   "cell_type": "code",
   "execution_count": 12,
   "metadata": {},
   "outputs": [],
   "source": [
    "match_ids = (\"Match-2025-01-28_20-06-55-36144\", \"Match-2025-01-28_21-27-26-36144\")\n",
    "game_type = \"scrim\""
   ]
  },
  {
   "cell_type": "code",
   "execution_count": 13,
   "metadata": {},
   "outputs": [],
   "source": [
    "game_info_csv_path = Path(\"/home/rjslater/Documents/Projects/UCR6-Stats-Bot/data/3_tables/game_info.csv\")\n",
    "game_info = pd.read_csv(game_info_csv_path)\n",
    "game_info = pd.concat((game_info, pd.DataFrame({\"match_ids\": [match_ids], \"game_type\": [game_type]}))).drop_duplicates()\n",
    "game_info.to_csv(game_info_csv_path, index=False)"
   ]
  },
  {
   "cell_type": "code",
   "execution_count": null,
   "metadata": {},
   "outputs": [],
   "source": []
  }
 ],
 "metadata": {
  "kernelspec": {
   "display_name": "ucr6",
   "language": "python",
   "name": "python3"
  },
  "language_info": {
   "codemirror_mode": {
    "name": "ipython",
    "version": 3
   },
   "file_extension": ".py",
   "mimetype": "text/x-python",
   "name": "python",
   "nbconvert_exporter": "python",
   "pygments_lexer": "ipython3",
   "version": "3.12.8"
  }
 },
 "nbformat": 4,
 "nbformat_minor": 2
}
