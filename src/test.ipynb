{
 "cells": [
  {
   "cell_type": "code",
   "execution_count": 140,
   "metadata": {},
   "outputs": [],
   "source": [
    "import pandas as pd\n",
    "from pathlib import Path\n",
    "from datetime import datetime"
   ]
  },
  {
   "cell_type": "code",
   "execution_count": 152,
   "metadata": {},
   "outputs": [],
   "source": [
    "def match_id_to_datetime(match_id: str) -> datetime:\n",
    "    match_id = match_id.removeprefix(\"Match-\")\n",
    "    timestamp = datetime.strptime(match_id, \"%Y-%m-%d_%H-%M-%S-%f\")\n",
    "    # Round to nearest second\n",
    "    timestamp = timestamp.replace(microsecond=round(timestamp.microsecond, -6))\n",
    "    return timestamp"
   ]
  },
  {
   "cell_type": "code",
   "execution_count": 155,
   "metadata": {},
   "outputs": [],
   "source": [
    "def get_dfs_from_sheet(xlsx_path: Path, sheet_name: str):\n",
    "    # Match/round info\n",
    "    match_id = xlsx_path.stem\n",
    "    round_num = int(sheet_name.split(\" \")[-1])\n",
    "    round_id = f\"{match_id}{round_num}\".removeprefix(\"Match-\").replace(\"_\", \"\").replace(\"-\", \"\")\n",
    "\n",
    "    # Player stats\n",
    "    player_df = pd.read_excel(xlsx_path, sheet_name=sheet_name, skiprows=1)\n",
    "    player_df = player_df.iloc[: player_df.Player.isnull().values.argmax()].copy()\n",
    "    player_df.drop(columns={\"Unnamed: 9\", \"Player 1\", \"Player 2\", \"Time\", \"Hs%\"}, inplace=True)\n",
    "    player_df.insert(0, \"Match ID\", match_id)\n",
    "    player_df.insert(1, \"Round Number\", round_num)\n",
    "    player_df.insert(2, \"Round ID\", round_id)\n",
    "\n",
    "    # Round stats\n",
    "    round_df = pd.read_excel(xlsx_path, sheet_name=sheet_name, skiprows=len(player_df) + 4)\n",
    "    round_df = round_df.iloc[: round_df[\"Name\"].isnull().values.argmax()].copy().fillna(\"\")\n",
    "    round_df.drop(columns=[f\"Unnamed: {i}\" for i in range(3, 13)], inplace=True)\n",
    "    actual_round_info = {}\n",
    "    for _, row in round_df.iterrows():\n",
    "        if row[\"Name\"] == \"Winning team\":\n",
    "            winning_team, winning_team_idx = row[\"Value\"].split(\" \")\n",
    "            winning_team_idx = int(winning_team_idx[1:-1])\n",
    "            actual_round_info[\"Winning Team\"], actual_round_info[\"Winning Team Index\"] = winning_team, winning_team_idx\n",
    "        else:\n",
    "            actual_round_info[row[\"Name\"].title()] = row[\"Value\"]\n",
    "        if row[\"Time\"]:\n",
    "            actual_round_info[\"Opening Kill Time\"] = row[\"Time\"]\n",
    "    actual_round_df = pd.DataFrame([actual_round_info])\n",
    "    actual_round_df.insert(0, \"Match ID\", match_id)\n",
    "    actual_round_df.insert(1, \"Round Number\", round_num)\n",
    "    actual_round_df.insert(2, \"Round ID\", round_id)\n",
    "    actual_round_df.insert(3, \"Match Timestamp\", match_id_to_datetime(match_id))\n",
    "\n",
    "    # Add trades to player stats\n",
    "    # TODO: This section of the sheet is actually broken, calculate trades myself\n",
    "    player_df[\"Trades\"] = 0\n",
    "    trades_df = pd.read_excel(xlsx_path, sheet_name=sheet_name, skiprows=1, usecols=[\"Player 1\", \"Player 2\", \"Time\"]).dropna()\n",
    "    for _, row in trades_df.iterrows():\n",
    "        player_name = row[\"Player 1\"]\n",
    "        for _, player_row in player_df.iterrows():\n",
    "            if player_row[\"Player\"] == player_name:\n",
    "                player_df.at[player_row.name, \"Trades\"] += 1\n",
    "                break\n",
    "\n",
    "    return player_df, actual_round_df"
   ]
  },
  {
   "cell_type": "code",
   "execution_count": 157,
   "metadata": {},
   "outputs": [
    {
     "name": "stdout",
     "output_type": "stream",
     "text": [
      "                       Match ID  Round Number           Round ID  \\\n",
      "0  Match-2024-04-14_17-41-21-37             1  20240414174121371   \n",
      "\n",
      "      Match Timestamp                           Site Winning Team  \\\n",
      "0 2024-04-14 17:41:21  B Laundry Room, B Supply Room     Kennesaw   \n",
      "\n",
      "   Winning Team Index Win Condition Opening Kill Opening Kill Time  \\\n",
      "0                   1          Time   meinheiden              2:19   \n",
      "\n",
      "  Opening Death Planted At Defused At  \n",
      "0         Brij-                        \n"
     ]
    }
   ],
   "source": [
    "player_df = pd.DataFrame()\n",
    "round_df = pd.DataFrame()\n",
    "\n",
    "file_path = Path(\"/home/rjslater/Documents/Projects/UCR6-Stats-Bot/data/2_decoded_replays/Match-2024-04-14_17-41-21-37.xlsx\")\n",
    "with pd.ExcelFile(file_path) as xlsx:\n",
    "    for sheet_name in xlsx.sheet_names:\n",
    "        if sheet_name.startswith(\"Match\"):\n",
    "            continue\n",
    "\n",
    "        sheet_player_df, sheet_round_df = get_dfs_from_sheet(file_path, sheet_name)\n",
    "        # print(sheet_player_df)\n",
    "        print(sheet_round_df)\n",
    "\n",
    "        break"
   ]
  },
  {
   "cell_type": "code",
   "execution_count": null,
   "metadata": {},
   "outputs": [],
   "source": []
  }
 ],
 "metadata": {
  "kernelspec": {
   "display_name": "ucr6",
   "language": "python",
   "name": "python3"
  },
  "language_info": {
   "codemirror_mode": {
    "name": "ipython",
    "version": 3
   },
   "file_extension": ".py",
   "mimetype": "text/x-python",
   "name": "python",
   "nbconvert_exporter": "python",
   "pygments_lexer": "ipython3",
   "version": "3.12.8"
  }
 },
 "nbformat": 4,
 "nbformat_minor": 2
}
