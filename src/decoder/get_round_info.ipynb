{
 "cells": [
  {
   "cell_type": "code",
   "execution_count": 1,
   "metadata": {},
   "outputs": [],
   "source": [
    "from pathlib import Path\n",
    "import pandas as pd\n",
    "import json\n",
    "import re\n",
    "\n",
    "match_json_path = Path(\"/home/rjslater/Documents/Projects/UCR6-Stats-Bot/data/2_decoded_replays/Match-2024-04-14_17-41-21-37.json\")"
   ]
  },
  {
   "cell_type": "code",
   "execution_count": 2,
   "metadata": {},
   "outputs": [
    {
     "name": "stdout",
     "output_type": "stream",
     "text": [
      "hello_there\n"
     ]
    }
   ],
   "source": [
    "def to_snake_case(camel_str):\n",
    "    return re.sub(r\"(?<!^)(?=[A-Z])\", \"_\", camel_str).lower()\n",
    "\n",
    "\n",
    "print(to_snake_case(\"helloThere\"))"
   ]
  },
  {
   "cell_type": "code",
   "execution_count": 3,
   "metadata": {},
   "outputs": [],
   "source": [
    "def round_dict_to_df(round_dict):\n",
    "    desired_keys = [\"gameVersion\", \"codeVersion\", \"timestamp\", 'matchType', 'map', 'site', 'roundsPerMatch', 'roundsPerMatchOvertime', 'roundNumber', 'overtimeRoundNumber']\n",
    "    info_dict = {}\n",
    "    for key in desired_keys:\n",
    "        value = round_dict[key]\n",
    "        if isinstance(value, dict):\n",
    "            if \"name\" in value:\n",
    "                value = value[\"name\"]\n",
    "            else:\n",
    "                print(\"ERROR\")\n",
    "                break\n",
    "        info_dict[to_snake_case(key)] = value\n",
    "    return pd.DataFrame([info_dict])"
   ]
  },
  {
   "cell_type": "code",
   "execution_count": 4,
   "metadata": {},
   "outputs": [
    {
     "name": "stdout",
     "output_type": "stream",
     "text": [
      "  game_version  code_version             timestamp       match_type     map  \\\n",
      "0         Y9S1       8178548  2024-04-14T17:43:06Z  CustomGameLocal  Oregon   \n",
      "\n",
      "                            site  rounds_per_match  rounds_per_match_overtime  \\\n",
      "0  B Laundry Room, B Supply Room                12                          3   \n",
      "\n",
      "   round_number  overtime_round_number  \n",
      "0             0                      0  \n"
     ]
    }
   ],
   "source": [
    "with open(match_json_path, \"r\") as f:\n",
    "    match_json = json.load(f)\n",
    "    for round in match_json[\"rounds\"]:\n",
    "        round_df = round_dict_to_df(round)\n",
    "        print(round_df)\n",
    "        break"
   ]
  },
  {
   "cell_type": "code",
   "execution_count": null,
   "metadata": {},
   "outputs": [],
   "source": []
  }
 ],
 "metadata": {
  "kernelspec": {
   "display_name": "ucr6",
   "language": "python",
   "name": "python3"
  },
  "language_info": {
   "codemirror_mode": {
    "name": "ipython",
    "version": 3
   },
   "file_extension": ".py",
   "mimetype": "text/x-python",
   "name": "python",
   "nbconvert_exporter": "python",
   "pygments_lexer": "ipython3",
   "version": "3.12.8"
  }
 },
 "nbformat": 4,
 "nbformat_minor": 2
}
